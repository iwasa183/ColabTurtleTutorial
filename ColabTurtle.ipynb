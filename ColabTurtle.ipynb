{
  "nbformat": 4,
  "nbformat_minor": 0,
  "metadata": {
    "colab": {
      "provenance": [],
      "authorship_tag": "ABX9TyO7pAu6clxO2fnFAKQBJF/A",
      "include_colab_link": true
    },
    "kernelspec": {
      "name": "python3",
      "display_name": "Python 3"
    },
    "language_info": {
      "name": "python"
    }
  },
  "cells": [
    {
      "cell_type": "markdown",
      "metadata": {
        "id": "view-in-github",
        "colab_type": "text"
      },
      "source": [
        "<a href=\"https://colab.research.google.com/github/iwasa183/ColabTurtleTutorial/blob/main/ColabTurtle.ipynb\" target=\"_parent\"><img src=\"https://colab.research.google.com/assets/colab-badge.svg\" alt=\"Open In Colab\"/></a>"
      ]
    },
    {
      "cell_type": "markdown",
      "source": [
        "Google Colabが提供している ColabTurtleの使用方法の簡単な解説です。\n",
        "\n",
        "まず最初に次の2行を実行する必要があります。"
      ],
      "metadata": {
        "id": "IBj-6bdaRhjg"
      }
    },
    {
      "cell_type": "code",
      "metadata": {
        "id": "2ISLuNPF2LKE"
      },
      "source": [
        "!pip3 install ColabTurtle\n",
        "from ColabTurtle.Turtle import *"
      ],
      "execution_count": null,
      "outputs": []
    },
    {
      "cell_type": "markdown",
      "source": [
        "次の1行は、既にTurtleのプログラムが実行されている場合にそれらを消し去って初期化(initialize)するためのものです。\n",
        "\n",
        "`initializeTurtle(initial_speed=10, initial_window_size=(400, 400))`\n",
        "\n",
        "のように()の中で、Turtle（亀）が動くスピードや、画面の大きさ（幅,高さ）を指定することもできます。"
      ],
      "metadata": {
        "id": "VcMiCYFHSCFW"
      }
    },
    {
      "cell_type": "code",
      "metadata": {
        "id": "fZ4V9cYZuYJy"
      },
      "source": [
        "initializeTurtle()"
      ],
      "execution_count": null,
      "outputs": []
    },
    {
      "cell_type": "markdown",
      "source": [
        "ColabTurtleには次のような関数（特定の処理を実行してくれるプログラムの部品のようなもの）が準備されています。"
      ],
      "metadata": {
        "id": "CAT7AS4-Sn4L"
      }
    },
    {
      "cell_type": "markdown",
      "source": [
        "\n",
        "\n",
        "`forward(units) `   ペンの向きに units だけ進む。値は整数リスト項目\n",
        "\n",
        "`backward(units)  `  ペンと反対の向きに units だけ進む。値は整数リスト項目\n",
        "\n",
        "`right(degrees)`       右に degree 度回転\n",
        "\n",
        "`left(degrees)`          左に degree 度回転\n",
        "\n",
        "`penup()`                 ペンを上げる\n",
        "\n",
        "`pendown() `           ペンを下げる\n",
        "\n",
        "`speed(speed)`        ペンの速度。値は1から10までの整数。大きいほうが速い\n",
        "\n",
        "`goto(x, y) `              座標 (x, y) に移動する。値は0以上の整数\n",
        "\n",
        "`setx(x)`                    y座標は変えずにx座標(x)に移動。値は0以上の整数\n",
        "\n",
        "`sety(y)`                    x座標は変えずにy座標(y)に移動。値は0以上の整数\n",
        "\n",
        "`showturtle()`          タートルを表示する\n",
        "\n",
        "hideturtle()            タートルをかくす\n",
        "\n",
        "`width(width)`         ペンのサイズ。値は1以上の整数\n",
        "\n",
        "`bgcolor(color)`       背景の色を設定\n",
        "\n",
        "`color(color)`           ペンの色を設定"
      ],
      "metadata": {
        "id": "JFYmMH5CS8m4"
      }
    },
    {
      "cell_type": "code",
      "metadata": {
        "id": "8ESrZEUPYnGl"
      },
      "source": [
        "!pip3 install ColabTurtle\n",
        "from ColabTurtle.Turtle import *\n",
        "initializeTurtle()\n",
        "\n",
        "left(90)\n",
        "forward(100)\n",
        "right(120)\n",
        "forward(100)\n",
        "right(120)\n",
        "forward(100)\n",
        "right(120)"
      ],
      "execution_count": null,
      "outputs": []
    },
    {
      "cell_type": "code",
      "source": [],
      "metadata": {
        "id": "ptME3r3eYFbB"
      },
      "execution_count": null,
      "outputs": []
    }
  ]
}